{
  "nbformat": 4,
  "nbformat_minor": 0,
  "metadata": {
    "colab": {
      "provenance": [],
      "gpuType": "T4"
    },
    "kernelspec": {
      "name": "python3",
      "display_name": "Python 3"
    },
    "language_info": {
      "name": "python"
    },
    "accelerator": "GPU"
  },
  "cells": [
    {
      "cell_type": "markdown",
      "source": [
        "<h3>Gan Implementation from scratch</h3>"
      ],
      "metadata": {
        "id": "_6keuCsyOuRh"
      }
    },
    {
      "cell_type": "markdown",
      "source": [
        "Importing the required librarys"
      ],
      "metadata": {
        "id": "w7JIL1ehCM1u"
      }
    },
    {
      "cell_type": "code",
      "source": [
        "from torch import nn\n",
        "import torch\n",
        "import torchvision.transforms as transforms\n",
        "from torch.utils.data import DataLoader\n",
        "import torchvision.datasets as datasets\n",
        "import torchvision\n",
        "from matplotlib import pyplot as plt"
      ],
      "metadata": {
        "id": "YulASOX5Ovgj"
      },
      "execution_count": 4,
      "outputs": []
    },
    {
      "cell_type": "markdown",
      "source": [
        "Defining the discriminator and generator\n"
      ],
      "metadata": {
        "id": "yHPh0AdxOEMW"
      }
    },
    {
      "cell_type": "code",
      "source": [
        "class Discrimator(nn.Module):\n",
        "  #The type of model that discriminates images of the generator\n",
        "  def __init__(self,img_dim):\n",
        "    super(Discrimator,self).__init__()\n",
        "    self.model = nn.Sequential(\n",
        "        nn.Linear(img_dim,128),\n",
        "        nn.ReLU(),\n",
        "        nn.Linear(128,1),\n",
        "        nn.Sigmoid()\n",
        "    )\n",
        "  def forward(self,x):\n",
        "    return self.model(x)\n",
        "\n",
        "class Generator(nn.Module):\n",
        "  #Generates images from a noise\n",
        "  def __init__(self,latent_dim,img_dim):\n",
        "    super(Generator,self).__init__()\n",
        "    self.model = nn.Sequential(\n",
        "        nn.Linear(latent_dim,256),\n",
        "        nn.ReLU(),\n",
        "        nn.Linear(256,img_dim),\n",
        "        nn.Tanh()\n",
        "    )\n",
        "  def forward(self,x):\n",
        "    return self.model(x)"
      ],
      "metadata": {
        "id": "glfPY9y_PBtd"
      },
      "execution_count": 5,
      "outputs": []
    },
    {
      "cell_type": "markdown",
      "source": [
        "Defining hyperparameters"
      ],
      "metadata": {
        "id": "Bmwc9f8SOz9e"
      }
    },
    {
      "cell_type": "code",
      "source": [
        "device = \"cuda\" if torch.cuda.is_available() else \"cpu\"\n",
        "lr = 3e-4\n",
        "latent_dim = 256\n",
        "img_dim = 28*28*1 #MNIST - Datashape\n",
        "batch_size = 32\n",
        "num_epochs = 50"
      ],
      "metadata": {
        "id": "bPmWYcuVO0kT"
      },
      "execution_count": 6,
      "outputs": []
    },
    {
      "cell_type": "code",
      "source": [
        "disc = Discrimator(img_dim).to(device)\n",
        "gen = Generator(latent_dim,img_dim).to(device)\n",
        "fixed_noise = torch.randn((batch_size,latent_dim)).to(device)\n",
        "transform = transforms.Compose(\n",
        "    [transforms.ToTensor(), transforms.Normalize((0.5),(0.5))]\n",
        ")"
      ],
      "metadata": {
        "id": "8tkijARaewJp"
      },
      "execution_count": 7,
      "outputs": []
    },
    {
      "cell_type": "code",
      "source": [
        "dataset = torchvision.datasets.MNIST(root='./data', train=True,\n",
        "                                        download=True, transform=transform)\n",
        "loader = torch.utils.data.DataLoader(dataset, batch_size=batch_size,\n",
        "                                          shuffle=True, num_workers=2)\n"
      ],
      "metadata": {
        "colab": {
          "base_uri": "https://localhost:8080/"
        },
        "id": "iJcP866Jfyz0",
        "outputId": "e854e171-7f85-4300-f8ab-4ef72d515a33"
      },
      "execution_count": 8,
      "outputs": [
        {
          "output_type": "stream",
          "name": "stdout",
          "text": [
            "Downloading http://yann.lecun.com/exdb/mnist/train-images-idx3-ubyte.gz\n",
            "Downloading http://yann.lecun.com/exdb/mnist/train-images-idx3-ubyte.gz to ./data/MNIST/raw/train-images-idx3-ubyte.gz\n"
          ]
        },
        {
          "output_type": "stream",
          "name": "stderr",
          "text": [
            "100%|██████████| 9912422/9912422 [00:00<00:00, 78463243.68it/s]\n"
          ]
        },
        {
          "output_type": "stream",
          "name": "stdout",
          "text": [
            "Extracting ./data/MNIST/raw/train-images-idx3-ubyte.gz to ./data/MNIST/raw\n",
            "\n",
            "Downloading http://yann.lecun.com/exdb/mnist/train-labels-idx1-ubyte.gz\n",
            "Downloading http://yann.lecun.com/exdb/mnist/train-labels-idx1-ubyte.gz to ./data/MNIST/raw/train-labels-idx1-ubyte.gz\n"
          ]
        },
        {
          "output_type": "stream",
          "name": "stderr",
          "text": [
            "100%|██████████| 28881/28881 [00:00<00:00, 103800937.30it/s]"
          ]
        },
        {
          "output_type": "stream",
          "name": "stdout",
          "text": [
            "Extracting ./data/MNIST/raw/train-labels-idx1-ubyte.gz to ./data/MNIST/raw\n",
            "\n",
            "Downloading http://yann.lecun.com/exdb/mnist/t10k-images-idx3-ubyte.gz\n",
            "Downloading http://yann.lecun.com/exdb/mnist/t10k-images-idx3-ubyte.gz to ./data/MNIST/raw/t10k-images-idx3-ubyte.gz\n"
          ]
        },
        {
          "output_type": "stream",
          "name": "stderr",
          "text": [
            "\n",
            "100%|██████████| 1648877/1648877 [00:00<00:00, 27000434.91it/s]\n"
          ]
        },
        {
          "output_type": "stream",
          "name": "stdout",
          "text": [
            "Extracting ./data/MNIST/raw/t10k-images-idx3-ubyte.gz to ./data/MNIST/raw\n",
            "\n",
            "Downloading http://yann.lecun.com/exdb/mnist/t10k-labels-idx1-ubyte.gz\n",
            "Downloading http://yann.lecun.com/exdb/mnist/t10k-labels-idx1-ubyte.gz to ./data/MNIST/raw/t10k-labels-idx1-ubyte.gz\n"
          ]
        },
        {
          "output_type": "stream",
          "name": "stderr",
          "text": [
            "100%|██████████| 4542/4542 [00:00<00:00, 9283883.42it/s]"
          ]
        },
        {
          "output_type": "stream",
          "name": "stdout",
          "text": [
            "Extracting ./data/MNIST/raw/t10k-labels-idx1-ubyte.gz to ./data/MNIST/raw\n",
            "\n"
          ]
        },
        {
          "output_type": "stream",
          "name": "stderr",
          "text": [
            "\n"
          ]
        }
      ]
    },
    {
      "cell_type": "code",
      "source": [
        "loader = DataLoader(dataset,batch_size=batch_size,shuffle=True)\n",
        "opt_disc = torch.optim.Adam(disc.parameters(),lr=lr)\n",
        "opt_gen = torch.optim.Adam(gen.parameters(),lr=lr)\n",
        "criterion= nn.BCELoss()"
      ],
      "metadata": {
        "id": "OzCWAuOEgIba"
      },
      "execution_count": 9,
      "outputs": []
    },
    {
      "cell_type": "markdown",
      "source": [
        "Training loop"
      ],
      "metadata": {
        "id": "AC2Rdei5GZeH"
      }
    },
    {
      "cell_type": "code",
      "source": [
        "for epoch in range(num_epochs):\n",
        "  for iter, (real,_) in enumerate(loader):\n",
        "    #Loss : log(D(X)) + log(1-D(G(Z)))\n",
        "    real = real.view(batch_size,-1).to(device) #flatten it to 784\n",
        "    noise = torch.randn(batch_size,latent_dim).to(device)\n",
        "    fake = gen(noise) #G(Z)\n",
        "    disc_real = disc(real).view(-1)#D(X)\n",
        "    lossD_real = criterion(disc_real,torch.ones_like(disc_real)) #log(D(X))\n",
        "\n",
        "    disc_fake = disc(fake).view(-1) #D(G(Z))\n",
        "    #removing the first part(ylog(D(x))) of the loss function, and havig the (1-yn)*log(1-D(G(Z))) part of our expression(since we are passing in zeros)\n",
        "    lossD_fake = criterion(disc_fake,torch.zeros_like(disc_fake))\n",
        "    lossD = (lossD_real+lossD_fake)/2\n",
        "    disc.zero_grad()\n",
        "    lossD.backward(retain_graph=True)\n",
        "    opt_disc.step()\n",
        "\n",
        "    #train generator (1-D(G(Z)))\n",
        "    output = disc(fake).view(-1)\n",
        "    lossG = criterion(output,torch.ones_like(output))\n",
        "    gen.zero_grad()\n",
        "    lossG.backward()\n",
        "    opt_gen.step()\n",
        "\n",
        "  print(f\"Epoch : {epoch+1}/{num_epochs} completed\")\n"
      ],
      "metadata": {
        "colab": {
          "base_uri": "https://localhost:8080/"
        },
        "id": "RUtDl17Lgpe0",
        "outputId": "006e691f-b53b-44b8-cdf6-0e07cdb6f88d"
      },
      "execution_count": 10,
      "outputs": [
        {
          "output_type": "stream",
          "name": "stdout",
          "text": [
            "Epoch : 1/50 completed\n",
            "Epoch : 2/50 completed\n",
            "Epoch : 3/50 completed\n",
            "Epoch : 4/50 completed\n",
            "Epoch : 5/50 completed\n",
            "Epoch : 6/50 completed\n",
            "Epoch : 7/50 completed\n",
            "Epoch : 8/50 completed\n",
            "Epoch : 9/50 completed\n",
            "Epoch : 10/50 completed\n",
            "Epoch : 11/50 completed\n",
            "Epoch : 12/50 completed\n",
            "Epoch : 13/50 completed\n",
            "Epoch : 14/50 completed\n",
            "Epoch : 15/50 completed\n",
            "Epoch : 16/50 completed\n",
            "Epoch : 17/50 completed\n",
            "Epoch : 18/50 completed\n",
            "Epoch : 19/50 completed\n",
            "Epoch : 20/50 completed\n",
            "Epoch : 21/50 completed\n",
            "Epoch : 22/50 completed\n",
            "Epoch : 23/50 completed\n",
            "Epoch : 24/50 completed\n",
            "Epoch : 25/50 completed\n",
            "Epoch : 26/50 completed\n",
            "Epoch : 27/50 completed\n",
            "Epoch : 28/50 completed\n",
            "Epoch : 29/50 completed\n",
            "Epoch : 30/50 completed\n",
            "Epoch : 31/50 completed\n",
            "Epoch : 32/50 completed\n",
            "Epoch : 33/50 completed\n",
            "Epoch : 34/50 completed\n",
            "Epoch : 35/50 completed\n",
            "Epoch : 36/50 completed\n",
            "Epoch : 37/50 completed\n",
            "Epoch : 38/50 completed\n",
            "Epoch : 39/50 completed\n",
            "Epoch : 40/50 completed\n",
            "Epoch : 41/50 completed\n",
            "Epoch : 42/50 completed\n",
            "Epoch : 43/50 completed\n",
            "Epoch : 44/50 completed\n",
            "Epoch : 45/50 completed\n",
            "Epoch : 46/50 completed\n",
            "Epoch : 47/50 completed\n",
            "Epoch : 48/50 completed\n",
            "Epoch : 49/50 completed\n",
            "Epoch : 50/50 completed\n"
          ]
        }
      ]
    },
    {
      "cell_type": "markdown",
      "source": [
        "Viewing a random generated image"
      ],
      "metadata": {
        "id": "EYoAOA2vGcig"
      }
    },
    {
      "cell_type": "code",
      "source": [
        "noise_test = torch.randn(1,latent_dim).to(device)\n",
        "fake_test = gen(noise_test).cpu().view(28,28).detach().numpy()\n",
        "# plt.imshow(fake_test)"
      ],
      "metadata": {
        "id": "T7JoO6aAql-u"
      },
      "execution_count": 20,
      "outputs": []
    },
    {
      "cell_type": "code",
      "source": [
        "plt.imshow(fake_test,cmap=\"gray\")"
      ],
      "metadata": {
        "colab": {
          "base_uri": "https://localhost:8080/",
          "height": 447
        },
        "id": "-O0gAVEmq75J",
        "outputId": "91c3e07d-10cd-481f-8e3a-4975c1cfddcf"
      },
      "execution_count": 21,
      "outputs": [
        {
          "output_type": "execute_result",
          "data": {
            "text/plain": [
              "<matplotlib.image.AxesImage at 0x7c53926ceaa0>"
            ]
          },
          "metadata": {},
          "execution_count": 21
        },
        {
          "output_type": "display_data",
          "data": {
            "text/plain": [
              "<Figure size 640x480 with 1 Axes>"
            ],
            "image/png": "[encoded data removed]"
          },
          "metadata": {}
        }
      ]
    },
    {
      "cell_type": "code",
      "source": [],
      "metadata": {
        "id": "fdjYcaqArzyX"
      },
      "execution_count": null,
      "outputs": []
    }
  ]
}